{
 "cells": [
  {
   "cell_type": "markdown",
   "id": "8773c115",
   "metadata": {
    "id": "8773c115"
   },
   "source": [
    "# Import Libraries"
   ]
  },
  {
   "cell_type": "code",
   "execution_count": 1,
   "id": "f8a440ea",
   "metadata": {
    "id": "f8a440ea"
   },
   "outputs": [],
   "source": [
    "import torch, torchvision\n",
    "from torch import nn\n",
    "from torch import optim\n",
    "from torchvision.transforms import ToTensor\n",
    "import torch.nn.functional as F\n",
    "import matplotlib.pyplot as plt\n",
    "import copy"
   ]
  },
  {
   "cell_type": "code",
   "execution_count": 2,
   "id": "700632a8",
   "metadata": {
    "id": "700632a8"
   },
   "outputs": [],
   "source": [
    "numb_batch=64"
   ]
  },
  {
   "cell_type": "markdown",
   "id": "758abc6c",
   "metadata": {
    "id": "758abc6c"
   },
   "source": [
    "# Getting Data "
   ]
  },
  {
   "cell_type": "code",
   "execution_count": 3,
   "id": "cbdcae5f",
   "metadata": {
    "id": "cbdcae5f"
   },
   "outputs": [],
   "source": [
    "T=torchvision.transforms.Compose([\n",
    "    torchvision.transforms.ToTensor()\n",
    "])\n",
    "\n",
    "train_data=torchvision.datasets.MNIST('mnist_data',train=True,download=True,transform=T);\n",
    "val_data=torchvision.datasets.MNIST('mnist_data',train=False,download=True,transform=T);\n",
    "\n",
    "train_dl=torch.utils.data.DataLoader(train_data,batch_size=numb_batch)\n",
    "val_dl=torch.utils.data.DataLoader(val_data,batch_size=numb_batch)"
   ]
  },
  {
   "cell_type": "code",
   "execution_count": 4,
   "id": "184b2fe4",
   "metadata": {
    "colab": {
     "base_uri": "https://localhost:8080/",
     "height": 282
    },
    "id": "184b2fe4",
    "outputId": "e54b3ec5-54a2-47be-db6d-d1b035f0f9ba"
   },
   "outputs": [
    {
     "data": {
      "text/plain": [
       "<matplotlib.image.AxesImage at 0x2020005e820>"
      ]
     },
     "execution_count": 4,
     "metadata": {},
     "output_type": "execute_result"
    },
    {
     "data": {
      "image/png": "[encoded data removed]",
      "text/plain": [
       "<Figure size 640x480 with 1 Axes>"
      ]
     },
     "metadata": {},
     "output_type": "display_data"
    }
   ],
   "source": [
    "plt.imshow(train_data[0][0][0],cmap=\"gray\")"
   ]
  },
  {
   "cell_type": "markdown",
   "id": "8fa21b6e",
   "metadata": {
    "id": "8fa21b6e"
   },
   "source": [
    "# Create the Model"
   ]
  },
  {
   "cell_type": "code",
   "execution_count": 5,
   "id": "161585ed",
   "metadata": {
    "id": "161585ed"
   },
   "outputs": [],
   "source": [
    "def create_lenet():\n",
    "    model=nn.Sequential(\n",
    "        nn.Conv2d(1,6,5,padding=2),\n",
    "        nn.ReLU(),\n",
    "        nn.AvgPool2d(2,stride=2),\n",
    "        \n",
    "        nn.Conv2d(6,16,5,padding=0),\n",
    "        nn.ReLU(),\n",
    "        nn.AvgPool2d(2,stride=2),\n",
    "        \n",
    "        nn.Flatten(),\n",
    "        nn.Linear(400,120),\n",
    "        nn.Linear(120,84),\n",
    "        nn.Linear(84,10)\n",
    "    )\n",
    "    return model"
   ]
  },
  {
   "cell_type": "markdown",
   "id": "8dba4c98",
   "metadata": {
    "id": "8dba4c98"
   },
   "source": [
    "# Validate the Model"
   ]
  },
  {
   "cell_type": "code",
   "execution_count": 6,
   "id": "d89ba7aa",
   "metadata": {
    "id": "d89ba7aa"
   },
   "outputs": [],
   "source": [
    "def validate(model,data):\n",
    "    total=0\n",
    "    correct=0\n",
    "    for i,(images,labels) in enumerate(data):\n",
    "        images=images\n",
    "        x=model(images)\n",
    "        value,pred=torch.max(x,1)\n",
    "        pred=pred.data.cpu()\n",
    "        total+=x.size(0)\n",
    "        correct+=torch.sum(pred==labels)\n",
    "    return correct*100./total"
   ]
  },
  {
   "cell_type": "markdown",
   "id": "9283dc77",
   "metadata": {
    "id": "9283dc77"
   },
   "source": [
    "# Training Function"
   ]
  },
  {
   "cell_type": "code",
   "execution_count": 7,
   "id": "7d9542b8",
   "metadata": {
    "id": "7d9542b8"
   },
   "outputs": [],
   "source": [
    "def train(numb_epoch=3, lr=1e-3, device=\"cpu\"):\n",
    "    accuracies = []\n",
    "    cnn = create_lenet().to(device)\n",
    "    cec = nn.CrossEntropyLoss()\n",
    "    optimizer = optim.Adam(cnn.parameters(), lr=lr)\n",
    "    max_accuracy = 0\n",
    "    for epoch in range(numb_epoch):\n",
    "        for i, (images, labels) in enumerate(train_dl):\n",
    "            images = images.to(device)\n",
    "            labels = labels.to(device)\n",
    "            optimizer.zero_grad()\n",
    "            pred = cnn(images)\n",
    "            loss = cec(pred, labels)\n",
    "            loss.backward()\n",
    "            optimizer.step()\n",
    "        accuracy = float(validate(cnn, val_dl))\n",
    "        accuracies.append(accuracy)\n",
    "        if accuracy > max_accuracy:\n",
    "            best_model = copy.deepcopy(cnn)\n",
    "            max_accuracy = accuracy\n",
    "            print(\"Saving Best Model with Accuracy: \", accuracy)\n",
    "        print('Epoch:', epoch+1, \"Accuracy :\", accuracy, '%')\n",
    "    plt.plot(accuracies)\n",
    "    device=torch.device(\"cpu\")\n",
    "    return best_model"
   ]
  },
  {
   "cell_type": "markdown",
   "id": "de29d9fd",
   "metadata": {
    "id": "de29d9fd"
   },
   "source": [
    "# Training the model"
   ]
  },
  {
   "cell_type": "code",
   "execution_count": 10,
   "id": "1503ab8e",
   "metadata": {
    "colab": {
     "base_uri": "https://localhost:8080/",
     "height": 1000
    },
    "id": "1503ab8e",
    "outputId": "99126304-23dc-4734-de19-7443ce8f8765",
    "scrolled": true
   },
   "outputs": [
    {
     "name": "stdout",
     "output_type": "stream",
     "text": [
      "Saving Best Model with Accuracy:  93.94000244140625\n",
      "Epoch: 1 Accuracy : 93.94000244140625 %\n",
      "Saving Best Model with Accuracy:  97.47000122070312\n",
      "Epoch: 2 Accuracy : 97.47000122070312 %\n",
      "Saving Best Model with Accuracy:  98.12999725341797\n",
      "Epoch: 3 Accuracy : 98.12999725341797 %\n",
      "Saving Best Model with Accuracy:  98.5199966430664\n",
      "Epoch: 4 Accuracy : 98.5199966430664 %\n",
      "Saving Best Model with Accuracy:  98.69999694824219\n",
      "Epoch: 5 Accuracy : 98.69999694824219 %\n",
      "Saving Best Model with Accuracy:  98.70999908447266\n",
      "Epoch: 6 Accuracy : 98.70999908447266 %\n",
      "Saving Best Model with Accuracy:  98.7300033569336\n",
      "Epoch: 7 Accuracy : 98.7300033569336 %\n",
      "Saving Best Model with Accuracy:  98.80000305175781\n",
      "Epoch: 8 Accuracy : 98.80000305175781 %\n",
      "Epoch: 9 Accuracy : 98.77999877929688 %\n",
      "Epoch: 10 Accuracy : 98.5199966430664 %\n",
      "Epoch: 11 Accuracy : 98.47000122070312 %\n",
      "Epoch: 12 Accuracy : 98.69999694824219 %\n",
      "Epoch: 13 Accuracy : 98.62000274658203 %\n",
      "Epoch: 14 Accuracy : 98.56999969482422 %\n",
      "Epoch: 15 Accuracy : 98.62999725341797 %\n",
      "Epoch: 16 Accuracy : 98.66000366210938 %\n",
      "Epoch: 17 Accuracy : 98.6500015258789 %\n",
      "Epoch: 18 Accuracy : 98.58999633789062 %\n",
      "Epoch: 19 Accuracy : 98.66000366210938 %\n",
      "Epoch: 20 Accuracy : 98.61000061035156 %\n",
      "Epoch: 21 Accuracy : 98.69999694824219 %\n",
      "Epoch: 22 Accuracy : 98.68000030517578 %\n",
      "Epoch: 23 Accuracy : 98.80000305175781 %\n",
      "Epoch: 24 Accuracy : 98.66000366210938 %\n",
      "Epoch: 25 Accuracy : 98.63999938964844 %\n",
      "Epoch: 26 Accuracy : 98.44000244140625 %\n",
      "Epoch: 27 Accuracy : 98.6500015258789 %\n",
      "Epoch: 28 Accuracy : 98.58999633789062 %\n",
      "Epoch: 29 Accuracy : 98.51000213623047 %\n",
      "Epoch: 30 Accuracy : 98.62000274658203 %\n",
      "Epoch: 31 Accuracy : 98.58000183105469 %\n",
      "Epoch: 32 Accuracy : 98.66999816894531 %\n",
      "Epoch: 33 Accuracy : 98.62000274658203 %\n",
      "Epoch: 34 Accuracy : 98.44000244140625 %\n",
      "Epoch: 35 Accuracy : 98.66999816894531 %\n",
      "Epoch: 36 Accuracy : 98.48999786376953 %\n",
      "Epoch: 37 Accuracy : 98.37999725341797 %\n",
      "Epoch: 38 Accuracy : 98.48999786376953 %\n",
      "Epoch: 39 Accuracy : 98.27999877929688 %\n",
      "Epoch: 40 Accuracy : 98.63999938964844 %\n"
     ]
    },
    {
     "data": {
      "image/png": "[encoded data removed]",
      "text/plain": [
       "<Figure size 640x480 with 1 Axes>"
      ]
     },
     "metadata": {},
     "output_type": "display_data"
    }
   ],
   "source": [
    "lemet=train(40,device=device)"
   ]
  },
  {
   "cell_type": "code",
   "execution_count": null,
   "id": "6ff35d20",
   "metadata": {
    "id": "6ff35d20"
   },
   "outputs": [],
   "source": []
  },
  {
   "cell_type": "code",
   "execution_count": null,
   "id": "7f717c77",
   "metadata": {},
   "outputs": [],
   "source": []
  }
 ],
 "metadata": {
  "accelerator": "GPU",
  "colab": {
   "provenance": [],
   "toc_visible": true
  },
  "gpuClass": "standard",
  "kernelspec": {
   "display_name": "Python 3 (ipykernel)",
   "language": "python",
   "name": "python3"
  },
  "language_info": {
   "codemirror_mode": {
    "name": "ipython",
    "version": 3
   },
   "file_extension": ".py",
   "mimetype": "text/x-python",
   "name": "python",
   "nbconvert_exporter": "python",
   "pygments_lexer": "ipython3",
   "version": "3.9.15"
  }
 },
 "nbformat": 4,
 "nbformat_minor": 5
}
